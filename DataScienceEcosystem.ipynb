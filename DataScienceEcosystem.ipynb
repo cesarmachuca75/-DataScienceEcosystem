{
 "cells": [
  {
   "cell_type": "markdown",
   "id": "68bc1546",
   "metadata": {},
   "source": [
    "# Data Science Tools and Ecosystem"
   ]
  },
  {
   "cell_type": "markdown",
   "id": "f75a8faf",
   "metadata": {},
   "source": [
    "In this notebook, Data Science Tools and Ecosystem are summarized."
   ]
  },
  {
   "cell_type": "markdown",
   "id": "4581ab94",
   "metadata": {},
   "source": [
    "Objectives: \n",
    "\n",
    "List data lenguages\n",
    "\n",
    "List data science libraries\n",
    "\n",
    "Aritmethic expresssions \n",
    "\n",
    "Insert markdown"
   ]
  },
  {
   "cell_type": "markdown",
   "id": "747922bb",
   "metadata": {},
   "source": [
    "Some of the popular languages that Data Scientists use are:\n",
    "1. Python\n",
    "2. SQL\n",
    "3. Julia\n",
    "4. Scala\n",
    "5. java"
   ]
  },
  {
   "cell_type": "markdown",
   "id": "5cb8754f",
   "metadata": {},
   "source": [
    "Some of the commonly used libraries used by Data Scientists include:\n",
    "\n",
    "    1. TensorFlow.\n",
    "    \n",
    "    2. NumPy.\n",
    "    \n",
    "    3. SciPy.\n",
    "    \n",
    "    4. Pandas.\n",
    "    \n",
    "    5. Matplotlib."
   ]
  },
  {
   "cell_type": "markdown",
   "id": "31072b62",
   "metadata": {},
   "source": [
    "|Data Science Tools|\n",
    "|------------------|\n",
    "|R Studio|\n",
    "|Apache Spark|\n",
    "|Tensor Flow|\n"
   ]
  },
  {
   "cell_type": "markdown",
   "id": "3e50dfd9",
   "metadata": {},
   "source": [
    "### Below are a few examples of evaluating arithmetic expressions in Python\n"
   ]
  },
  {
   "cell_type": "code",
   "execution_count": 2,
   "id": "b624ec1e",
   "metadata": {},
   "outputs": [
    {
     "data": {
      "text/plain": [
       "17"
      ]
     },
     "execution_count": 2,
     "metadata": {},
     "output_type": "execute_result"
    }
   ],
   "source": [
    "# This a simple arithmetic expression to mutiply then add integers\n",
    "(3*4)+5"
   ]
  },
  {
   "cell_type": "code",
   "execution_count": 3,
   "id": "ede28886",
   "metadata": {},
   "outputs": [
    {
     "data": {
      "text/plain": [
       "3.3333333333333335"
      ]
     },
     "execution_count": 3,
     "metadata": {},
     "output_type": "execute_result"
    }
   ],
   "source": [
    "# This will convert 200 minutes to hours by diving by 60\n",
    "200/60\n"
   ]
  },
  {
   "cell_type": "markdown",
   "id": "5ce94ead",
   "metadata": {},
   "source": [
    "# # Author\n",
    "César Martín"
   ]
  },
  {
   "cell_type": "code",
   "execution_count": null,
   "id": "2a9b147d",
   "metadata": {},
   "outputs": [],
   "source": []
  }
 ],
 "metadata": {
  "kernelspec": {
   "display_name": "Python 3",
   "language": "python",
   "name": "python3"
  },
  "language_info": {
   "codemirror_mode": {
    "name": "ipython",
    "version": 3
   },
   "file_extension": ".py",
   "mimetype": "text/x-python",
   "name": "python",
   "nbconvert_exporter": "python",
   "pygments_lexer": "ipython3",
   "version": "3.8.8"
  }
 },
 "nbformat": 4,
 "nbformat_minor": 5
}
